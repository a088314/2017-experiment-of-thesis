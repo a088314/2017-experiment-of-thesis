{
 "cells": [
  {
   "cell_type": "code",
   "execution_count": 10,
   "metadata": {
    "collapsed": false
   },
   "outputs": [
    {
     "name": "stderr",
     "output_type": "stream",
     "text": [
      "100%|██████████████████████████████████████████| 11/11 [00:19<00:00,  1.60s/it]\n"
     ]
    }
   ],
   "source": [
    "import requests\n",
    "from bs4 import BeautifulSoup as bs\n",
    "from tqdm import tqdm\n",
    "all_data=dict()\n",
    "# 從event id 為 0 一直試到event id 為30,000\n",
    "for i in tqdm(range(30001)):\n",
    "    res=requests.get('http://www.eventid.net/display.asp?eventid='+str(i)+'&source=')\n",
    "    soup=bs(res.text, \"lxml\")\n",
    "    table=soup.select('#box-table-doc')\n",
    "    type_li=[]\n",
    "    source_li=[]\n",
    "    description_li=[]\n",
    "# 開始剖析回傳的html code\n",
    "# 每一筆資料都由一個\"tr\" tag所包覆\n",
    "    for ele in table[0].select('tr'):\n",
    "#      如果該筆文字由\"type\"開頭，則代表的是該筆log的type，而「type:」共5個字元，所以從第6個字元開始擷取至該行結束\n",
    "        if ele.text.startswith('Type:'):\n",
    "            type_li.append(ele.text[6:].strip())\n",
    "#      如果該筆文字由\"Source:\"開頭，則代表的是該筆log的來源，而「Source:」共7字字，所以從第8個字元開始拮取至該行結束\n",
    "        elif ele.text.startswith('Source:'):\n",
    "            source_li.append(ele.text[8:].strip())\n",
    "#      如果該筆文字由\"Description:\"開頭，則代表的是該筆log的描述，而「Description:」共11字字，所以從第8個字元開始拮取至該行結束\n",
    "        elif ele.text.startswith('Description:'):\n",
    "            description_li.append(ele.text[12:].strip())\n",
    "#         將這個event id 的所有事件儲存至all_data\n",
    "    all_data[str(i)]=[type_li, source_li, description_li]\n",
    "#     每過1000個回合儲存一次\n",
    "    if i % 1000 == 0:\n",
    "        save_file(i)"
   ]
  },
  {
   "cell_type": "code",
   "execution_count": 9,
   "metadata": {
    "collapsed": false
   },
   "outputs": [],
   "source": [
    "def save_file(num):\n",
    "    import codecs\n",
    "    import pickle\n",
    "    global all_data\n",
    "# 若要更改儲存路徑，請更改下列path\n",
    "# 儲存成pickle檔案形式，如此的話之後可以直接讀取，無須再parse文字檔\n",
    "    with open('C:/Users/CHAN CHI/Event_dictionary/all_event_data_until'+str(num),'wb') as fout:\n",
    "        pickle.dump(all_data,fout)\n",
    "# 儲存成文字檔案形式，方便人眼觀察\n",
    "    with codecs.open('C:/Users/CHAN CHI/Event_dictionary/all_event_data_until'+str(num)+'.txt','w','utf-8') as fout:\n",
    "        fout.write(str(all_data))"
   ]
  },
  {
   "cell_type": "code",
   "execution_count": 16,
   "metadata": {
    "collapsed": false
   },
   "outputs": [],
   "source": [
    "import pickle\n",
    "from collections import Counter\n",
    "import operator\n",
    "import codecs\n",
    "# 讀取pickle檔，此路徑需與save_file function的pickle檔路徑一致\n",
    "with open('C:/Users/CHAN CHI/Event_dictionary/all_event_data_until30000','rb') as fin:\n",
    "    data=pickle.load(fin)\n",
    "Sources=[]\n",
    "text=''\n",
    "# 計算有幾個dinstinct source 及總共有幾個events\n",
    "# for k, v in data.items():\n",
    "#     for i in v[1]:\n",
    "#         Sources.append(i)\n",
    "# S=Counter(Sources)\n",
    "# total_events_num=0\n",
    "# print(len(S))\n",
    "# for k, v in sorted(S.items(), key=lambda x: x[1], reverse=True):\n",
    "# #     print(k,v)\n",
    "#     total_events_num+=v\n",
    "# print(total_events_num)\n",
    "\n",
    "# 將抓取下來的檔案寫成EXCEL檔，檔案請用sublime 3開啟，用Windows的notepad好像因為換行符號不一致的關係，會沒有換行\n",
    "# 用sublime 3開啟之後複製到excel檔，在剖析資料時以tab鍵區隔欄位資料，即完成\n",
    "for k, v in data.items():\n",
    "    for i in range(len(v[0])):\n",
    "        text+=str(k)+'\\t'+v[0][i]+'\\t'+v[1][i]+'\\t'+v[2][i].replace('\\n',' ')+'\\n'\n",
    "#         print(v[2][i])\n",
    "with codecs.open('C:/Users/CHAN CHI/Event_dictionary/final data'+'.txt','w','utf-8') as fout:\n",
    "    fout.write(text)"
   ]
  }
 ],
 "metadata": {
  "kernelspec": {
   "display_name": "Python 3",
   "language": "python",
   "name": "python3"
  },
  "language_info": {
   "codemirror_mode": {
    "name": "ipython",
    "version": 3
   },
   "file_extension": ".py",
   "mimetype": "text/x-python",
   "name": "python",
   "nbconvert_exporter": "python",
   "pygments_lexer": "ipython3",
   "version": "3.6.0"
  }
 },
 "nbformat": 4,
 "nbformat_minor": 2
}
